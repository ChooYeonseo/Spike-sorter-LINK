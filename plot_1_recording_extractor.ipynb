{
 "cells": [
  {
   "cell_type": "markdown",
   "metadata": {},
   "source": [
    "\n",
    "# Recording objects\n",
    "\n",
    "The :py:class:`~spikeinterface.core.BaseRecording` is the basic class for handling recorded data.\n",
    "Here is how it works.\n",
    "\n",
    "A RecordingExtractor handles:\n",
    "\n",
    "  * traces retrieval across segments\n",
    "  * dumping to/loading from dict-json\n",
    "  * saving (caching)\n"
   ]
  },
  {
   "cell_type": "code",
   "execution_count": 1,
   "metadata": {
    "collapsed": false
   },
   "outputs": [
    {
     "name": "stderr",
     "output_type": "stream",
     "text": [
      "c:\\Users\\user\\anaconda3\\envs\\intan\\Lib\\site-packages\\tqdm\\auto.py:21: TqdmWarning: IProgress not found. Please update jupyter and ipywidgets. See https://ipywidgets.readthedocs.io/en/stable/user_install.html\n",
      "  from .autonotebook import tqdm as notebook_tqdm\n"
     ]
    }
   ],
   "source": [
    "import matplotlib.pyplot as plt\n",
    "\n",
    "import numpy as np\n",
    "import spikeinterface.extractors as se"
   ]
  },
  {
   "cell_type": "markdown",
   "metadata": {},
   "source": [
    "We will create a :code:`RecordingExtractor` object from scratch using :code:`numpy` and the\n",
    ":py:class:`~spikeinterface.core.NumpyRecording`.\n",
    "\n",
    "Let's define the properties of the dataset:\n",
    "\n"
   ]
  },
  {
   "cell_type": "code",
   "execution_count": 2,
   "metadata": {
    "collapsed": false
   },
   "outputs": [],
   "source": [
    "num_channels = 7\n",
    "sampling_frequency = 30000.0  # in Hz\n",
    "durations = [10.0, 15.0]  # in s for 2 segments\n",
    "num_segments = 2\n",
    "num_timepoints = [int(sampling_frequency * d) for d in durations]"
   ]
  },
  {
   "cell_type": "markdown",
   "metadata": {},
   "source": [
    "We can generate a pure-noise timeseries dataset for 2 segments with 2\n",
    "different durations:\n",
    "\n"
   ]
  },
  {
   "cell_type": "code",
   "execution_count": 3,
   "metadata": {
    "collapsed": false
   },
   "outputs": [],
   "source": [
    "traces0 = np.random.normal(0, 10, (num_timepoints[0], num_channels))\n",
    "traces1 = np.random.normal(0, 10, (num_timepoints[1], num_channels))"
   ]
  },
  {
   "cell_type": "markdown",
   "metadata": {},
   "source": [
    "And instantiate a :py:class:`~spikeinterface.core.NumpyRecording`. Each object has a pretty print to\n",
    "summarize its content:\n",
    "\n"
   ]
  },
  {
   "cell_type": "code",
   "execution_count": 4,
   "metadata": {
    "collapsed": false
   },
   "outputs": [
    {
     "name": "stdout",
     "output_type": "stream",
     "text": [
      "NumpyRecording: 7 channels - 30.0kHz - 2 segments - 750,000 samples - 25.00s - float64 dtype \n",
      "                40.05 MiB\n",
      "Segments:\n",
      "Samples:   300,000 | 450,000\n",
      "Durations: 10.00s | 15.00s\n",
      "Memory:    16.02 MiB | 24.03 MiB\n"
     ]
    }
   ],
   "source": [
    "recording = se.NumpyRecording(traces_list=[traces0, traces1], sampling_frequency=sampling_frequency)\n",
    "print(recording)"
   ]
  },
  {
   "cell_type": "markdown",
   "metadata": {},
   "source": [
    "We can now print properties that the :code:`RecordingExtractor` retrieves from the underlying recording.\n",
    "\n"
   ]
  },
  {
   "cell_type": "code",
   "execution_count": 5,
   "metadata": {
    "collapsed": false
   },
   "outputs": [
    {
     "name": "stdout",
     "output_type": "stream",
     "text": [
      "Number of channels = 7\n",
      "Sampling frequency = 30000.0 Hz\n",
      "Number of segments= 2\n",
      "Number of timepoints in seg0= 300000\n",
      "Number of timepoints in seg1= 450000\n"
     ]
    }
   ],
   "source": [
    "print(f\"Number of channels = {len(recording.get_channel_ids())}\")\n",
    "print(f\"Sampling frequency = {recording.get_sampling_frequency()} Hz\")\n",
    "print(f\"Number of segments= {recording.get_num_segments()}\")\n",
    "print(f\"Number of timepoints in seg0= {recording.get_num_frames(segment_index=0)}\")\n",
    "print(f\"Number of timepoints in seg1= {recording.get_num_frames(segment_index=1)}\")"
   ]
  },
  {
   "cell_type": "markdown",
   "metadata": {},
   "source": [
    "The geometry of the Probe is handled with the :probeinterface:`ProbeInterface <>` library.\n",
    "Let's generate a linear probe by specifying our number of electrodes/contacts (num_elec)\n",
    "the distance between the contacts (ypitch), their shape (contact_shapes) and their size\n",
    "(contact_shape_params):\n",
    "\n"
   ]
  },
  {
   "cell_type": "code",
   "execution_count": 6,
   "metadata": {
    "collapsed": false
   },
   "outputs": [
    {
     "data": {
      "text/plain": [
       "(<matplotlib.collections.PolyCollection at 0x2b145e9eb70>,\n",
       " <matplotlib.collections.PolyCollection at 0x2b145c0af00>)"
      ]
     },
     "execution_count": 6,
     "metadata": {},
     "output_type": "execute_result"
    },
    {
     "data": {
      "image/png": "[encoded data removed]",
      "text/plain": [
       "<Figure size 640x480 with 1 Axes>"
      ]
     },
     "metadata": {},
     "output_type": "display_data"
    }
   ],
   "source": [
    "from probeinterface import generate_linear_probe\n",
    "from probeinterface.plotting import plot_probe\n",
    "\n",
    "probe = generate_linear_probe(num_elec=7, ypitch=20, contact_shapes=\"circle\", contact_shape_params={\"radius\": 6})\n",
    "\n",
    "# the probe has to be wired to the recording device (i.e., which electrode corresponds to an entry in the data\n",
    "# matrix)\n",
    "probe.set_device_channel_indices(np.arange(7))\n",
    "\n",
    "# then we need to actually set the probe to the recording object\n",
    "recording = recording.set_probe(probe)\n",
    "plot_probe(probe)"
   ]
  },
  {
   "cell_type": "markdown",
   "metadata": {},
   "source": [
    "Some extractors also implement a :code:`write` function.\n",
    "\n"
   ]
  },
  {
   "cell_type": "code",
   "execution_count": 7,
   "metadata": {
    "collapsed": false
   },
   "outputs": [
    {
     "name": "stderr",
     "output_type": "stream",
     "text": [
      "c:\\Users\\user\\anaconda3\\envs\\intan\\Lib\\site-packages\\spikeinterface\\core\\job_tools.py:103: UserWarning: `n_jobs` is not set so parallel processing is disabled! To speed up computations, it is recommended to set n_jobs either globally (with the `spikeinterface.set_global_job_kwargs()` function) or locally (with the `n_jobs` argument). Use `spikeinterface.set_global_job_kwargs?` for more information about job_kwargs.\n",
      "  warnings.warn(\n",
      "write_binary_recording: 100%|##########| 25/25 [00:00<00:00, 606.82it/s]\n"
     ]
    }
   ],
   "source": [
    "file_paths = [\"traces0.raw\", \"traces1.raw\"]\n",
    "se.BinaryRecordingExtractor.write_recording(recording, file_paths)"
   ]
  },
  {
   "cell_type": "markdown",
   "metadata": {},
   "source": [
    "We can read the written recording back with the proper extractor.\n",
    "Note that this new recording is now \"on disk\" and not \"in memory\" as the Numpy recording was.\n",
    "This means that the loading is \"lazy\" and the data are not loaded into memory.\n",
    "\n"
   ]
  },
  {
   "cell_type": "code",
   "execution_count": 8,
   "metadata": {
    "collapsed": false
   },
   "outputs": [
    {
     "name": "stdout",
     "output_type": "stream",
     "text": [
      "BinaryRecordingExtractor: 7 channels - 30.0kHz - 2 segments - 750,000 samples - 25.00s \n",
      "                          float64 dtype - 40.05 MiB\n",
      "Segments:\n",
      "Samples:   300,000 | 450,000\n",
      "Durations: 10.00s | 15.00s\n",
      "Memory:    16.02 MiB | 24.03 MiB\n",
      "  file_paths: ['c:\\\\Users\\\\user\\\\sean\\\\Spike-sorter-LINK\\\\traces0.raw', 'c:\\\\Users\\\\user\\\\sean\\\\Spike-sorter-LINK\\\\traces1.raw']\n"
     ]
    }
   ],
   "source": [
    "recording2 = se.BinaryRecordingExtractor(\n",
    "    file_paths=file_paths, sampling_frequency=sampling_frequency, num_channels=num_channels, dtype=traces0.dtype\n",
    ")\n",
    "print(recording2)"
   ]
  },
  {
   "cell_type": "markdown",
   "metadata": {},
   "source": [
    "Loading traces in memory is done on demand:\n",
    "\n"
   ]
  },
  {
   "cell_type": "code",
   "execution_count": 9,
   "metadata": {
    "collapsed": false
   },
   "outputs": [
    {
     "name": "stdout",
     "output_type": "stream",
     "text": [
      "(300000, 7)\n",
      "(50, 7)\n"
     ]
    }
   ],
   "source": [
    "# entire segment 0\n",
    "traces0 = recording2.get_traces(segment_index=0)\n",
    "# part of segment 1\n",
    "traces1_short = recording2.get_traces(segment_index=1, end_frame=50)\n",
    "print(traces0.shape)\n",
    "print(traces1_short.shape)"
   ]
  },
  {
   "cell_type": "markdown",
   "metadata": {},
   "source": [
    "Internally, a recording has :code:`channel_ids`: that are a vector that can have a\n",
    "dtype of :code:`int` or :code:`str`:\n",
    "\n"
   ]
  },
  {
   "cell_type": "code",
   "execution_count": 10,
   "metadata": {
    "collapsed": false
   },
   "outputs": [
    {
     "name": "stdout",
     "output_type": "stream",
     "text": [
      "chan_ids (dtype=int): [0 1 2 3 4 5 6]\n",
      "chan_ids (dtype=str): ['a' 'b' 'c' 'd' 'e' 'f' 'g']\n"
     ]
    }
   ],
   "source": [
    "print(\"chan_ids (dtype=int):\", recording.get_channel_ids())\n",
    "\n",
    "recording3 = se.NumpyRecording(\n",
    "    traces_list=[traces0, traces1],\n",
    "    sampling_frequency=sampling_frequency,\n",
    "    channel_ids=[\"a\", \"b\", \"c\", \"d\", \"e\", \"f\", \"g\"],\n",
    ")\n",
    "print(\"chan_ids (dtype=str):\", recording3.get_channel_ids())"
   ]
  },
  {
   "cell_type": "markdown",
   "metadata": {},
   "source": [
    ":code:`channel_ids` are used to retrieve information (e.g. traces) only on a\n",
    "subset of channels:\n",
    "\n"
   ]
  },
  {
   "cell_type": "code",
   "execution_count": 11,
   "metadata": {
    "collapsed": false
   },
   "outputs": [
    {
     "name": "stdout",
     "output_type": "stream",
     "text": [
      "(50, 2)\n"
     ]
    }
   ],
   "source": [
    "traces = recording3.get_traces(segment_index=1, end_frame=50, channel_ids=[\"a\", \"d\"])\n",
    "print(traces.shape)"
   ]
  },
  {
   "cell_type": "markdown",
   "metadata": {},
   "source": [
    "You can also get a recording with a subset of channels (i.e. a channel slice):\n",
    "\n"
   ]
  },
  {
   "cell_type": "code",
   "execution_count": 12,
   "metadata": {
    "collapsed": false
   },
   "outputs": [
    {
     "name": "stdout",
     "output_type": "stream",
     "text": [
      "ChannelSliceRecording: 3 channels - 30.0kHz - 2 segments - 750,000 samples - 25.00s \n",
      "                       float64 dtype - 17.17 MiB\n",
      "Segments:\n",
      "Samples:   300,000 | 450,000\n",
      "Durations: 10.00s | 15.00s\n",
      "Memory:    6.87 MiB | 10.30 MiB\n",
      "['a' 'c' 'e']\n"
     ]
    }
   ],
   "source": [
    "recording4 = recording3.channel_slice(channel_ids=[\"a\", \"c\", \"e\"])\n",
    "print(recording4)\n",
    "print(recording4.get_channel_ids())\n",
    "\n",
    "# which is equivalent to\n",
    "from spikeinterface import ChannelSliceRecording\n",
    "\n",
    "recording4 = ChannelSliceRecording(recording3, channel_ids=[\"a\", \"c\", \"e\"])"
   ]
  },
  {
   "cell_type": "markdown",
   "metadata": {},
   "source": [
    "Another possibility is to split a recording based on a certain property (e.g. 'group')\n",
    "\n"
   ]
  },
  {
   "cell_type": "code",
   "execution_count": 13,
   "metadata": {
    "collapsed": false
   },
   "outputs": [
    {
     "name": "stdout",
     "output_type": "stream",
     "text": [
      "{0: ChannelSliceRecording: 3 channels - 30.0kHz - 2 segments - 750,000 samples - 25.00s \n",
      "                       float64 dtype - 17.17 MiB\n",
      "Segments:\n",
      "Samples:   300,000 | 450,000\n",
      "Durations: 10.00s | 15.00s\n",
      "Memory:    6.87 MiB | 10.30 MiB, 1: ChannelSliceRecording: 3 channels - 30.0kHz - 2 segments - 750,000 samples - 25.00s \n",
      "                       float64 dtype - 17.17 MiB\n",
      "Segments:\n",
      "Samples:   300,000 | 450,000\n",
      "Durations: 10.00s | 15.00s\n",
      "Memory:    6.87 MiB | 10.30 MiB, 2: ChannelSliceRecording: 1 channels - 30.0kHz - 2 segments - 750,000 samples - 25.00s \n",
      "                       float64 dtype - 5.72 MiB\n",
      "Segments:\n",
      "Samples:   300,000 | 450,000\n",
      "Durations: 10.00s | 15.00s\n",
      "Memory:    2.29 MiB | 3.43 MiB}\n",
      "['a' 'b' 'c']\n",
      "['d' 'e' 'f']\n",
      "['g']\n"
     ]
    }
   ],
   "source": [
    "recording3.set_property(\"group\", [0, 0, 0, 1, 1, 1, 2])\n",
    "\n",
    "recordings = recording3.split_by(property=\"group\")\n",
    "print(recordings)\n",
    "print(recordings[0].get_channel_ids())\n",
    "print(recordings[1].get_channel_ids())\n",
    "print(recordings[2].get_channel_ids())"
   ]
  },
  {
   "cell_type": "markdown",
   "metadata": {},
   "source": [
    "A recording can be \"dumped\" (exported) to:\n",
    " * a dict\n",
    " * a json file\n",
    " * a pickle file\n",
    "\n",
    "The \"dump\" operation is lazy, i.e., the traces are not exported.\n",
    "Only the information about how to reconstruct the recording are dumped:\n",
    "\n"
   ]
  },
  {
   "cell_type": "code",
   "execution_count": 14,
   "metadata": {
    "collapsed": false
   },
   "outputs": [
    {
     "name": "stdout",
     "output_type": "stream",
     "text": [
      "{'annotations': {'is_filtered': False, 'name': None},\n",
      " 'class': 'spikeinterface.core.binaryrecordingextractor.BinaryRecordingExtractor',\n",
      " 'kwargs': {'channel_ids': [0, 1, 2, 3, 4, 5, 6],\n",
      "            'dtype': '<f8',\n",
      "            'file_offset': 0,\n",
      "            'file_paths': ['c:\\\\Users\\\\user\\\\sean\\\\Spike-sorter-LINK\\\\traces0.raw',\n",
      "                           'c:\\\\Users\\\\user\\\\sean\\\\Spike-sorter-LINK\\\\traces1.raw'],\n",
      "            'gain_to_uV': None,\n",
      "            'is_filtered': None,\n",
      "            'num_channels': 7,\n",
      "            'offset_to_uV': None,\n",
      "            'sampling_frequency': 30000.0,\n",
      "            't_starts': None,\n",
      "            'time_axis': 0},\n",
      " 'module': 'spikeinterface',\n",
      " 'properties': {'gain_to_uV': None,\n",
      "                'group': None,\n",
      "                'location': None,\n",
      "                'offset_to_uV': None},\n",
      " 'relative_paths': False,\n",
      " 'version': '0.101.2'}\n",
      "BinaryRecordingExtractor: 7 channels - 30.0kHz - 2 segments - 750,000 samples - 25.00s \n",
      "                          float64 dtype - 40.05 MiB\n",
      "Segments:\n",
      "Samples:   300,000 | 450,000\n",
      "Durations: 10.00s | 15.00s\n",
      "Memory:    16.02 MiB | 24.03 MiB\n",
      "  file_paths: ['c:\\\\Users\\\\user\\\\sean\\\\Spike-sorter-LINK\\\\traces0.raw', 'c:\\\\Users\\\\user\\\\sean\\\\Spike-sorter-LINK\\\\traces1.raw']\n"
     ]
    }
   ],
   "source": [
    "from spikeinterface import load_extractor\n",
    "from pprint import pprint\n",
    "\n",
    "d = recording2.to_dict()\n",
    "pprint(d)\n",
    "\n",
    "recording2_loaded = load_extractor(d)\n",
    "print(recording2_loaded)"
   ]
  },
  {
   "cell_type": "markdown",
   "metadata": {},
   "source": [
    "The dictionary can also be dumped directly to a JSON file on disk:\n",
    "\n"
   ]
  },
  {
   "cell_type": "code",
   "execution_count": 15,
   "metadata": {
    "collapsed": false
   },
   "outputs": [
    {
     "name": "stdout",
     "output_type": "stream",
     "text": [
      "BinaryRecordingExtractor: 7 channels - 30.0kHz - 2 segments - 750,000 samples - 25.00s \n",
      "                          float64 dtype - 40.05 MiB\n",
      "Segments:\n",
      "Samples:   300,000 | 450,000\n",
      "Durations: 10.00s | 15.00s\n",
      "Memory:    16.02 MiB | 24.03 MiB\n",
      "  file_paths: ['c:\\\\Users\\\\user\\\\sean\\\\Spike-sorter-LINK\\\\traces0.raw', 'c:\\\\Users\\\\user\\\\sean\\\\Spike-sorter-LINK\\\\traces1.raw']\n"
     ]
    }
   ],
   "source": [
    "recording2.dump(\"my_recording.json\")\n",
    "\n",
    "recording2_loaded = load_extractor(\"my_recording.json\")\n",
    "print(recording2_loaded)"
   ]
  },
  {
   "cell_type": "markdown",
   "metadata": {},
   "source": [
    "**IMPORTANT**: the \"dump\" operation DOES NOT copy the traces to disk!\n",
    "\n",
    "If you wish to also store the traces in a compact way you need to use the\n",
    ":code:`save()` function. This operation is very useful to save traces obtained\n",
    "after long computations (e.g. filtering or referencing):\n",
    "\n"
   ]
  },
  {
   "cell_type": "code",
   "execution_count": 16,
   "metadata": {
    "collapsed": false
   },
   "outputs": [
    {
     "name": "stdout",
     "output_type": "stream",
     "text": [
      "write_binary_recording \n",
      "n_jobs=1 - samples_per_chunk=30,000 - chunk_memory=1.60 MiB - total_memory=1.60 MiB - chunk_duration=1.00s\n"
     ]
    },
    {
     "name": "stderr",
     "output_type": "stream",
     "text": [
      "write_binary_recording: 100%|##########| 25/25 [00:00<00:00, 416.75it/s]\n"
     ]
    },
    {
     "name": "stdout",
     "output_type": "stream",
     "text": [
      "['binary.json',\n",
      " 'properties',\n",
      " 'provenance.json',\n",
      " 'si_folder.json',\n",
      " 'traces_cached_seg0.raw',\n",
      " 'traces_cached_seg1.raw']\n",
      "BinaryRecordingExtractor: 7 channels - 30.0kHz - 2 segments - 750,000 samples - 25.00s \n",
      "                          float64 dtype - 40.05 MiB\n",
      "Segments:\n",
      "Samples:   300,000 | 450,000\n",
      "Durations: 10.00s | 15.00s\n",
      "Memory:    16.02 MiB | 24.03 MiB\n",
      "  file_paths: ['c:\\\\Users\\\\user\\\\sean\\\\Spike-sorter-LINK\\\\traces0.raw', 'c:\\\\Users\\\\user\\\\sean\\\\Spike-sorter-LINK\\\\traces1.raw']\n"
     ]
    }
   ],
   "source": [
    "recording2.save(folder=\"./my_recording\")\n",
    "\n",
    "import os\n",
    "\n",
    "pprint(os.listdir(\"./my_recording\"))\n",
    "\n",
    "recording2_cached = load_extractor(\"my_recording.json\")\n",
    "print(recording2_cached)"
   ]
  }
 ],
 "metadata": {
  "kernelspec": {
   "display_name": "intan",
   "language": "python",
   "name": "python3"
  },
  "language_info": {
   "codemirror_mode": {
    "name": "ipython",
    "version": 3
   },
   "file_extension": ".py",
   "mimetype": "text/x-python",
   "name": "python",
   "nbconvert_exporter": "python",
   "pygments_lexer": "ipython3",
   "version": "3.12.7"
  }
 },
 "nbformat": 4,
 "nbformat_minor": 0
}
